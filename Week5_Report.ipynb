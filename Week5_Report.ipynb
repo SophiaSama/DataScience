{
 "cells": [
  {
   "cell_type": "markdown",
   "metadata": {},
   "source": [
    "<h1> Capstone Project - The Battle of Neighborhoods </h1>\n",
    "\n",
    "## Select the Location for a New Chinese Restaurant in Singapore"
   ]
  },
  {
   "cell_type": "markdown",
   "metadata": {},
   "source": [
    "### Introduction\n",
    "---\n",
    "Due to the on-going COVID19 pandemic, restaurants are closed for dining and people are staying at home. This is the time when people start to miss the past days when they could eat out and have some get-togethers with friends and families.\n",
    "\n",
    "With the wish for everything back to normal very soon, I choose topic number 2 and will try to find a good location for a Chinese restaurant in Singapore.\n",
    "\n",
    "In this project, I will be selecting a location for a new Chinese Restuarant. The **Foursquare** API will be called to gather data for various places in Singapore."
   ]
  },
  {
   "cell_type": "markdown",
   "metadata": {},
   "source": [
    "First I explored 200m around Bedok, Singaore, where I live.\n",
    "Using **geolocator**, the geograpical coordinate of Bedok are found to be 1.3239765, 103.930216.\n",
    "Using **folium**, we can plot the Bedok map shown below.\n",
    "<img src=\"http://localhost:8899/files/Documents/Data_Science/Capstone/Screenshot%202020-05-11%20at%2010.44.39%20AM.png?_xsrf=2%7Cfe3111f6%7Ca59586ebef64e1e77c9188b4f9d74857%7C1588930656\">"
   ]
  },
  {
   "cell_type": "markdown",
   "metadata": {},
   "source": [
    "From the map it is clear that most of te venues are near the Bedok MRT staiton, so we will continue to explore all MRT stations in Singapore."
   ]
  },
  {
   "cell_type": "markdown",
   "metadata": {},
   "source": [
    "### About the Data"
   ]
  },
  {
   "cell_type": "markdown",
   "metadata": {},
   "source": [
    "The list of MRT stations in Singapore is available on [wikipedia](https://en.wikipedia.org/wiki/List_of_Singapore_MRT_stations), the list contains all MRT stations including stations being built or planned to be built. The stations I am interested in are the MRT stations which are currently in operation, and are interchange stations.\n",
    "The geography coordinates are not included in that table, and they can be obtained by using **geocoder** with all the station names searched.\n",
    "With the station names and their coordinates, we can explore the interchange stations by calling **foursqure** API and get the most visited venues for each station. Finally we apply *kmeans clustering* and use **folium** to visualise the popular venue distributions among interchange stations and select a area for a new Chinese restaurant."
   ]
  },
  {
   "cell_type": "markdown",
   "metadata": {},
   "source": [
    "### Data pre-processing\n",
    "---\n",
    "In this part all Singapore MRT names and locations will be obtained by an easy web scraping using **pandas.read_html**, then I will extract the interchange MRT stations, search their coordinates, finally **Foursquare** API will be called to get the most visted venues for all interchange MRT stations in Singapore, and a dataframe will be created with all the information."
   ]
  },
  {
   "cell_type": "markdown",
   "metadata": {},
   "source": [
    "First I got a list of MRT stations from wikipedia and transferred it into a dataframe.\n",
    "![df](http://localhost:8899/files/Documents/Data_Science/Capstone/Screenshot%202020-05-11%20at%2010.55.45%20AM.png?_xsrf=2%7Cfe3111f6%7Ca59586ebef64e1e77c9188b4f9d74857%7C1588930656)"
   ]
  },
  {
   "cell_type": "markdown",
   "metadata": {},
   "source": [
    "And processed the raw data into a dataframe with the information we need: interchange stations and their coordinates\n",
    "![interchanged_merged](http://localhost:8899/files/Documents/Data_Science/Capstone/Screenshot%202020-05-11%20at%2011.06.58%20AM.png?_xsrf=2%7Cfe3111f6%7Ca59586ebef64e1e77c9188b4f9d74857%7C1588930656)"
   ]
  },
  {
   "cell_type": "markdown",
   "metadata": {},
   "source": [
    "After exploring each MRT interchange station by making API calls, we found 219 uniques categories among those MRT stations.\n",
    "![singapore_venues](http://localhost:8899/files/Documents/Data_Science/Capstone/Screenshot%202020-05-11%20at%2011.12.37%20AM.png?_xsrf=2%7Cfe3111f6%7Ca59586ebef64e1e77c9188b4f9d74857%7C1588930656)"
   ]
  },
  {
   "cell_type": "markdown",
   "metadata": {},
   "source": [
    "### Clustering and Data Analysis"
   ]
  },
  {
   "cell_type": "markdown",
   "metadata": {},
   "source": [
    "The MRT stations and their top 10 most common venues are found.\n",
    "\n",
    "\n",
    "![station_venues_sorted](http://localhost:8899/files/Documents/Data_Science/Capstone/Screenshot%202020-05-11%20at%2011.32.44%20AM.png?_xsrf=2%7Cfe3111f6%7Ca59586ebef64e1e77c9188b4f9d74857%7C1588930656)\n",
    "(see station_venues_sorted.csv)"
   ]
  },
  {
   "cell_type": "markdown",
   "metadata": {},
   "source": [
    "After running clustering for 5 clusters, a new dataframe with clustering labels, station names, station Chinese names, station coordinates, and 1-10 most common venues is created\n"
   ]
  },
  {
   "cell_type": "markdown",
   "metadata": {},
   "source": [
    "![singapore_stations.csv](http://localhost:8899/files/Documents/Data_Science/Capstone/Screenshot%202020-05-11%20at%2011.38.55%20AM.png?_xsrf=2%7Cfe3111f6%7Ca59586ebef64e1e77c9188b4f9d74857%7C1588930656)\n",
    "(see singapore_stations.csv)"
   ]
  },
  {
   "cell_type": "markdown",
   "metadata": {},
   "source": [
    "We can see that Chinese Restaurant is the top most common venues for many MRT stations, and they are all under Cluster 0.\n",
    "\n",
    "![chinese_restaurants](http://localhost:8899/files/Documents/Data_Science/Capstone/Screenshot%202020-05-11%20at%2011.49.07%20AM.png?_xsrf=2%7Cfe3111f6%7Ca59586ebef64e1e77c9188b4f9d74857%7C1588930656)\n",
    "(see chinese_restaurants.csv)"
   ]
  },
  {
   "cell_type": "markdown",
   "metadata": {},
   "source": [
    "Clustering results visualisation\n",
    "![restaurant](http://localhost:8899/files/Documents/Data_Science/Capstone/Screenshot%202020-05-11%20at%2011.50.36%20AM.png?_xsrf=2%7Cfe3111f6%7Ca59586ebef64e1e77c9188b4f9d74857%7C1588930656)"
   ]
  },
  {
   "cell_type": "markdown",
   "metadata": {},
   "source": [
    "### Conclusions\n",
    "---\n",
    "From the last dataframe *chinese_restaurants*, we can see that **Jurong East** is a place people go shopping and dining, and on the map it is far from the city area, so it should be a very populated residential area(which is true!).\n",
    "\n",
    "Cluster 3 is the city area, where venues are more close to one another. This is the place where the most tourists attractions are. It is also noticed that **Chinatown**, where Chinese Restaurant is the top venue is also located near that area.\n",
    "\n",
    "It might be easy to draw a conclusion that Chinatown should be selected as the new Chinese Restaurant location, however, city area costs more investments and faces more compitations. Following *the Blue Ocean Strategy*, I select **Jurong East** as the location to build a neighborhood Chinese Restaurant."
   ]
  },
  {
   "cell_type": "markdown",
   "metadata": {},
   "source": [
    "\n"
   ]
  }
 ],
 "metadata": {
  "kernelspec": {
   "display_name": "Python 3",
   "language": "python",
   "name": "python3"
  },
  "language_info": {
   "codemirror_mode": {
    "name": "ipython",
    "version": 3
   },
   "file_extension": ".py",
   "mimetype": "text/x-python",
   "name": "python",
   "nbconvert_exporter": "python",
   "pygments_lexer": "ipython3",
   "version": "3.6.10"
  }
 },
 "nbformat": 4,
 "nbformat_minor": 4
}
